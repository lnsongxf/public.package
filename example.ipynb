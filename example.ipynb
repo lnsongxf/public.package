{
 "cells": [
  {
   "cell_type": "markdown",
   "metadata": {},
   "source": [
    "Using the grmpy package\n",
    "===================\n",
    "\n",
    "The grmToolbox can be used to estimate the benefits, cost, and surplus using your own data and using simulated data. \n",
    "grmToolbox includes two function, the estimate() function and the simulate function.\n",
    "\n",
    "The grmpy package includes a sample dataset, 'test.dat', and a sample init file 'test.ini' that are included to provide\n",
    "an example of how the two functions work.\n",
    "\n",
    "This tutorial reviews using both function with those sample files.\n",
    "\n",
    "You can incorporate the grmpy package's functions in any python project after first importing it just as you would any\n",
    "other python library\n"
   ]
  },
  {
   "cell_type": "code",
   "execution_count": 1,
   "metadata": {},
   "outputs": [],
   "source": [
    "import grmpy\n",
    "from grmpy import *\n",
    "import cPickle"
   ]
  },
  {
   "cell_type": "markdown",
   "metadata": {},
   "source": [
    "grmpy.estimate(init, resume, useSimulation)\n",
    "--------------\n",
    "The grmpy estimate command only requires that you specify an init file. \n",
    "\n",
    "The estimation run should take approximately 15 seconds.\n",
    "\n",
    "This command will fork a process on your computer for the \n",
    "optimization algorithm. \n",
    "\n",
    "While it is running, you may investigate\n",
    "the value of your parameters and the function values \n",
    "by opening and `info.grmpy.out`, respectively. \n",
    "\n",
    "The example directory should now contain 2 additional files:\n",
    "\n",
    "`info.grmpy.out`, which updates continuously during\n",
    "optimization with the current function value; \n",
    "\n",
    "\n",
    "`rslt.grmpy.pkl`, a python pickle file which stores\n",
    "all of the results. \n",
    "\n",
    "Please note that the program only uses\n",
    "the complete cases of the data."
   ]
  },
  {
   "cell_type": "markdown",
   "metadata": {},
   "source": [
    "InitFile (='test.ini')\n",
    "=============\n",
    "\n",
    "If not estimating using a simulated data set, the source data must be specified in the init file\n",
    "\n",
    "The example init file is reproduced below for convenience:\n",
    "\n",
    "```\n",
    "DATA\n",
    "\tsource\t\t../data/test.dat\n",
    "\tagents \t\t10000\n",
    "\n",
    "\toutcome\t\t0\n",
    "\ttreatment\t1\n",
    "\n",
    "BENE\n",
    "        \n",
    "\tcoeff  2  0.00\t0.00\tfalse\n",
    "\tcoeff  3  0.00\t0.00\ttrue\n",
    "\n",
    "\tcoeff  4  0.00\t0.00\ttrue\n",
    "\t\n",
    "\tint       0.00\t0.00\n",
    "\tsd        1.00\t1.00\n",
    "\n",
    "COST\n",
    "\n",
    "\tcoeff  4  0.00\n",
    "\tcoeff  5  0.00\n",
    "\t\n",
    "\tint       0.00\n",
    "\tsd        !1.00\n",
    "\n",
    "RHO\n",
    "\n",
    "\t treated   0.0\n",
    "\t untreated   0.0\n",
    "\n",
    "ESTIMATION\n",
    "\t\n",
    "\talgorithm \tbfgs\n",
    "\tmaxiter    \t15\n",
    "\tstart\t\tmanual\n",
    "\tgtol       \t1e-05\n",
    "\n",
    "\tepsilon    \t1.4901161193847656e-08\n",
    "\tdifferences\tone-sided\n",
    "\n",
    "\tasymptotics true\n",
    "\thessian    \tnumdiff\n",
    "\n",
    "\tdraws    \t1000\n",
    "\talpha\t\t0.05\n",
    "\n",
    "\tversion     fast\n",
    "\n",
    "SIMULATION\n",
    "\n",
    "\tagents\t\t1747\n",
    "\tseed \t  \t123\n",
    "\ttarget  \tsimulation.dat\n",
    "\n",
    "```\n",
    "\n"
   ]
  },
  {
   "cell_type": "code",
   "execution_count": 2,
   "metadata": {},
   "outputs": [
    {
     "name": "stderr",
     "output_type": "stream",
     "text": [
      "/Users/cocorbin/anaconda/lib/python2.7/site-packages/grmpy/clsRslt.py:93: RuntimeWarning: covariance is not positive-semidefinite.\n",
      "  cov, num_draws)\n"
     ]
    },
    {
     "data": {
      "text/plain": [
       "<grmpy.clsRslt.RsltCls at 0x10384a990>"
      ]
     },
     "execution_count": 2,
     "output_type": "execute_result",
     "metadata": {}
    }
   ],
   "source": [
    "grmpy.estimate('test.ini')"
   ]
  },
  {
   "cell_type": "markdown",
   "metadata": {},
   "source": []
  },
  {
   "cell_type": "markdown",
   "metadata": {},
   "source": [
    "\n"
   ]
  },
  {
   "cell_type": "markdown",
   "metadata": {},
   "source": [
    "`grmpy.simulate(init, resume)`\n",
    "--------------\n",
    "After estimation you can simulate a dataset of agents drawn from the distribution\n",
    "of your estimated data-generating process (i.e. implied by your\n",
    "parameter estimates).\n",
    "\n",
    "The filename of the simulated dataset is specified in the INITFILE. \n",
    "Specifying the `update=True` option ensures your data is simulated\n",
    "from the current parameter values.\n",
    "\n",
    "Otherwise, it will take the parameter\n",
    "values from your INITFILE. \n",
    "\n",
    "You should see that the simulation produced 3 files:\n",
    "\n",
    "`simulation.dat`, which is the simulated data;\n",
    "\n",
    "`simulation.infos.grm.out`, which summarizes the data;\n",
    "\n",
    "and `simulation.paras.grm.out`, which shows the true\n",
    "parameter values underlying the simulated data."
   ]
  },
  {
   "cell_type": "code",
   "execution_count": 3,
   "metadata": {},
   "outputs": [],
   "source": [
    "grmpy.simulate('test.ini')"
   ]
  },
  {
   "cell_type": "markdown",
   "metadata": {},
   "source": [
    "`grmpy.simulate()` Results:\n",
    "----------\n",
    "\n",
    "The resultant dataset is written to `simulation.dat`\n",
    "\n",
    "Information on the simulation is written out to `simulation.infos.grmpy.out`, reproduced below:\n",
    "\n",
    "```\n",
    " Simulated Economy\n",
    "\n",
    "   Number of Observations: 1747\n",
    "   Function Value:         2.08302019005\n",
    "\n",
    "   Choices:  \n",
    "\n",
    "     Treated            849\n",
    "     Untreated          898\n",
    "\n",
    "\n",
    "   Outcomes:  \n",
    "\n",
    "     Treated           0.04408\n",
    "     Untreated         0.08214\n",
    "\n",
    "```"
   ]
  },
  {
   "cell_type": "markdown",
   "metadata": {},
   "source": [
    "`grmpy.estimate(init, resume, useSimulation=True)`\n",
    "============\n",
    "So far we have estimated our model and created a simulated dataset\n",
    "from our estimate. \n",
    "\n",
    "We can use the `simulation=True` option when issuing\n",
    "the `grmpy.estimate()` command to see if we recover the true parameter estimates. \n",
    "\n",
    "This command isn't anything new. \n",
    "\n",
    "It merely utilizes the `simulation` \n",
    "option of the `grmpy.estimate` command. \n",
    "\n",
    "The estimation will \n",
    "run using the dataset and observation count as specified in the `SIMULATION` \n",
    "section of the INITFILE. \n",
    "\n",
    "Using the instructions contained in the INITFILE, \n",
    "it generates a new set of estimates for the simulated data. \n",
    "\n",
    "The user can then compare the estimated parameter values in `stepParas.grm.out` with the true parameter values of the simulated\n",
    "data. \n"
   ]
  },
  {
   "cell_type": "code",
   "execution_count": 4,
   "metadata": {},
   "outputs": [
    {
     "data": {
      "text/plain": [
       "<grmpy.clsRslt.RsltCls at 0x1043d0050>"
      ]
     },
     "execution_count": 4,
     "output_type": "execute_result",
     "metadata": {}
    }
   ],
   "source": [
    "grmpy.estimate('test.ini', False, True)"
   ]
  },
  {
   "cell_type": "markdown",
   "metadata": {},
   "source": [
    "`grmpy.estimate(useSimulation=True)` Results:\n",
    "-------\n",
    "Full Results are written out to the new file `info.grm.out`. All output is required in the pickle object `rslt.grmpy.pkl`. \n",
    "\n",
    "A sample of the output found in `info.grm.out` is reproduced below:\n",
    "\n",
    "```\n",
    " OPTIMIZATION REPORT \n",
    "\n",
    "      Function:   2.07807655743\n",
    "      Gradient:   0.000131011009216\n",
    "\n",
    "      Success:    False\n",
    "      Message:    Maximum number of function evaluations.\n",
    "      \n",
    "```"
   ]
  },
  {
   "cell_type": "code",
   "execution_count": null,
   "metadata": {},
   "outputs": [],
   "source": [
    ""
   ]
  }
 ],
 "metadata": {
  "kernelspec": {
   "display_name": "Python 2",
   "language": "python",
   "name": "python2"
  },
  "language_info": {
   "codemirror_mode": {
    "name": "ipython",
    "version": 2.0
   },
   "file_extension": ".py",
   "mimetype": "text/x-python",
   "name": "python",
   "nbconvert_exporter": "python",
   "pygments_lexer": "ipython2",
   "version": "2.7.10"
  }
 },
 "nbformat": 4,
 "nbformat_minor": 0
}