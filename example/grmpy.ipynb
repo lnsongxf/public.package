{
 "cells": [
  {
   "cell_type": "code",
   "execution_count": 1,
   "metadata": {
    "collapsed": false
   },
   "outputs": [
    {
     "data": {
      "text/html": [
       "/*\n",
       "Placeholder for custom user CSS\n",
       "\n",
       "mainly to be overridden in profile/static/custom/custom.css\n",
       "\n",
       "This will always be an empty file in IPython\n",
       "*/\n",
       "\n",
       "\n",
       "\n",
       "<link href='http://fonts.googleapis.com/css?family=Alegreya+Sans:100,300,400,500,700,800,900,100italic,300italic,400italic,500italic,700italic,800italic,900italic' rel='stylesheet' type='text/css'>\n",
       "<link href='http://fonts.googleapis.com/css?family=Arvo:400,700,400italic' rel='stylesheet' type='text/css'>\n",
       "<link href='http://fonts.googleapis.com/css?family=PT+Mono' rel='stylesheet' type='text/css'>\n",
       "<link href='http://fonts.googleapis.com/css?family=Shadows+Into+Light' rel='stylesheet' type='text/css'>\n",
       "<link href='http://fonts.googleapis.com/css?family=Philosopher:400,700,400italic,700italic' rel='stylesheet' type='text/css'>\n",
       "\n",
       "<style>\n",
       "\n",
       "@font-face {\n",
       "    font-family: \"Computer Modern\";\n",
       "    src: url('http://mirrors.ctan.org/fonts/cm-unicode/fonts/otf/cmunss.otf');\n",
       "}\n",
       "\n",
       "#notebook_panel { /* main background */\n",
       "    background: #888;\n",
       "    color: #f6f6f6;\n",
       "}\n",
       "\n",
       "\n",
       "div.cell { /* set cell width to about 80 chars */\n",
       "    width: 1000px;\n",
       "}\n",
       "\n",
       "div #notebook { /* centre the content */\n",
       "    background: #fff; /* white background for content */\n",
       "    width: 1200px;\n",
       "    margin: auto;\n",
       "    padding-left: 1em;\n",
       "}\n",
       "\n",
       "#notebook li { /* More space between bullet points */\n",
       "margin-top:0.8em;\n",
       "}\n",
       "\n",
       "/* draw border around running cells */\n",
       "div.cell.border-box-sizing.code_cell.running {\n",
       "    border: 3px solid #111;\n",
       "}\n",
       "\n",
       "/* Put a solid color box around each cell and its output, visually linking them together */\n",
       "div.cell.code_cell {\n",
       "    background-color: rgba(171,165,131,0.3); \n",
       "    border-radius: 10px; /* rounded borders */\n",
       "    padding: 1em;\n",
       "    margin-top: 1em;\n",
       "}\n",
       "\n",
       "div.text_cell_render{\n",
       "    font-family: 'Arvo' sans-serif;\n",
       "    line-height: 130%;\n",
       "    font-size: 150%;\n",
       "    width:900px;\n",
       "    margin-left:auto;\n",
       "    margin-right:auto;\n",
       "}\n",
       "\n",
       "/* Formatting for header cells */\n",
       ".text_cell_render h1 {\n",
       "    font-family: 'Philosopher', sans-serif;\n",
       "    font-weight: 400;\n",
       "    font-size: 32pt;\n",
       "    line-height: 100%;\n",
       "    color: rgb(12,85,97);\n",
       "    margin-bottom: 0.1em;\n",
       "    margin-top: 0.1em;\n",
       "    display: block;\n",
       "}\n",
       "\n",
       ".text_cell_render h2 {\n",
       "    font-family: 'Philosopher', serif;\n",
       "    font-weight: 700;\n",
       "    font-size: 24pt;\n",
       "    line-height: 100%;\n",
       "    color: rgb(171,165,131);\n",
       "    margin-bottom: 0.1em;\n",
       "    margin-top: 0.1em;\n",
       "    display: block;\n",
       "}    \n",
       "\n",
       ".text_cell_render h3 {\n",
       "    font-family: 'Philosopher', serif;\n",
       "    margin-top:12px;\n",
       "    margin-bottom: 3px;\n",
       "    font-style: italic;\n",
       "    color: rgb(95,92,72);\n",
       "}\n",
       "\n",
       ".text_cell_render h4 {\n",
       "    font-family: 'Philosopher', serif;\n",
       "}\n",
       "\n",
       ".text_cell_render h5 {\n",
       "    font-family: 'Alegreya Sans', sans-serif;\n",
       "    font-weight: 300;\n",
       "    font-size: 16pt;\n",
       "    color: grey;\n",
       "    font-style: italic;\n",
       "    margin-bottom: .1em;\n",
       "    margin-top: 0.1em;\n",
       "    display: block;\n",
       "}\n",
       "\n",
       ".text_cell_render h6 {\n",
       "    font-family: 'PT Mono', sans-serif;\n",
       "    font-weight: 300;\n",
       "    font-size: 10pt;\n",
       "    color: grey;\n",
       "    margin-bottom: 1px;\n",
       "    margin-top: 1px;\n",
       "}\n",
       "\n",
       ".CodeMirror{\n",
       "        font-family: \"PT Mono\";\n",
       "        font-size: 120%;\n",
       "}\n",
       "\n",
       "</style>"
      ],
      "text/plain": [
       "<IPython.core.display.HTML object>"
      ]
     },
     "execution_count": 1,
     "metadata": {},
     "output_type": "execute_result"
    }
   ],
   "source": [
    "from IPython.core.display import HTML, Image\n",
    "css_file = 'custom.css' \n",
    "HTML(open(css_file, 'r').read())"
   ]
  },
  {
   "cell_type": "markdown",
   "metadata": {},
   "source": [
    "*grmpy* package\n",
    "========"
   ]
  },
  {
   "cell_type": "markdown",
   "metadata": {},
   "source": [
    "The *grmpy* can be used to estimate the benefits, cost, and surplus using your own data and using simulated data. \n",
    "\n",
    "    Eisenhauer, Philipp and James J. Heckman, Edward Vytlacil (2014): The Generalized Roy Model and the Cost-Benefit Analysis of Social Programs, Journal of Political Economy, 123(2): 413-443.\n",
    "\n",
    "\n",
    "There are two functions: (1) estimate and (2) simulate.\n",
    "\n",
    "The grmpy package includes a sample dataset, 'test.dat', and a sample init file 'test.ini' that are included to provide an example of how the two functions work.\n",
    "\n",
    "This tutorial reviews using both function with those sample files.\n",
    "\n",
    "The *grmpy* package is maintained by [Philipp Eisenhauer](https://github.com/peisenha) and [Chase Corbin](https://github.com/cocorbin). We want to thank [Jake Torcasse](http://jaketorcasso.com/) and [Luke Schmerold](https://www.linkedin.com/pub/luke-schmerold/5a/308/a65/) for their help in developing earlier versions of the package. "
   ]
  },
  {
   "cell_type": "markdown",
   "metadata": {},
   "source": [
    "Model Specification\n",
    "----------------------\n",
    "\n",
    "If not estimating using a simulated data set, the source data must be specified in the init file\n",
    "\n",
    "The example init file is reproduced below for convenience:\n",
    "\n",
    "```\n",
    "DATA\n",
    "\tsource\t\t../data/test.dat\n",
    "\tagents \t\t10000\n",
    "\n",
    "\toutcome\t\t0\n",
    "\ttreatment\t1\n",
    "\n",
    "BENE\n",
    "        \n",
    "\tcoeff  2  0.00\t0.00\tfalse\n",
    "\tcoeff  3  0.00\t0.00\ttrue\n",
    "\n",
    "\tcoeff  4  0.00\t0.00\ttrue\n",
    "\t\n",
    "\tint       0.00\t0.00\n",
    "\tsd        1.00\t1.00\n",
    "\n",
    "COST\n",
    "\n",
    "\tcoeff  4  0.00\n",
    "\tcoeff  5  0.00\n",
    "\t\n",
    "\tint       0.00\n",
    "\tsd        !1.00\n",
    "\n",
    "RHO\n",
    "\n",
    "\t treated   0.0\n",
    "\t untreated   0.0\n",
    "\n",
    "ESTIMATION\n",
    "\t\n",
    "\talgorithm \tbfgs\n",
    "\tmaxiter    \t15\n",
    "\tstart\t\tmanual\n",
    "\tgtol       \t1e-05\n",
    "\n",
    "\tepsilon    \t1.4901161193847656e-08\n",
    "\tdifferences\tone-sided\n",
    "\n",
    "\tasymptotics true\n",
    "\thessian    \tnumdiff\n",
    "\n",
    "\tdraws    \t1000\n",
    "\talpha\t\t0.05\n",
    "\n",
    "\tversion     fast\n",
    "\n",
    "SIMULATION\n",
    "\n",
    "\tagents\t\t1747\n",
    "\tseed \t  \t123\n",
    "\ttarget  \tsimulation.dat\n",
    "\n",
    "```\n",
    "\n"
   ]
  },
  {
   "cell_type": "markdown",
   "metadata": {},
   "source": [
    "Getting Started\n",
    "-----------------\n",
    "\n",
    "You can incorporate the grmpy package's functions in any python project after first importing it just as you would any\n",
    "other python library"
   ]
  },
  {
   "cell_type": "code",
   "execution_count": 2,
   "metadata": {
    "collapsed": true
   },
   "outputs": [],
   "source": [
    "# Import grmpy package\n",
    "import grmpy\n",
    "\n",
    "# Let us run some basic tests\n",
    "grmpy.test()"
   ]
  },
  {
   "cell_type": "markdown",
   "metadata": {},
   "source": [
    "We briefly reproduce the interface to the *estimate* function."
   ]
  },
  {
   "cell_type": "code",
   "execution_count": 3,
   "metadata": {
    "collapsed": true
   },
   "outputs": [],
   "source": [
    "def estimate(init='init.ini', resume=False, use_simulation=False):\n",
    "    \"\"\"\n",
    "            Parameters\n",
    "            ----------\n",
    "            \n",
    "                init: str, optional\n",
    "                    Path to the initialization file.\n",
    "                    \n",
    "                resume: bool, optional\n",
    "                    Restart estimation, requires info.grmpy.out.\n",
    "                    \n",
    "                use_simulation: bool, optional\n",
    "                    Use information from SIMULATION section of \n",
    "                    the initialiation file.\n",
    "                \n",
    "            Results\n",
    "            -------\n",
    "            \n",
    "                info.grmpy.out: file\n",
    "                    Text file with results from estimation run.\n",
    "                    \n",
    "                rslt.grmpy.pkl: serialized Python object    \n",
    "                    Results from estimation run.\n",
    "    \"\"\"\n",
    "    \n",
    "    pass\n"
   ]
  },
  {
   "cell_type": "markdown",
   "metadata": {},
   "source": [
    "For any initialization file, you can simulate a dataset for the specified data generating process. This is  useful to inspect properties of the simulated population but also testing the reliability of your estimator. Also, if information from a previous estimation run is available the estimated structural parameters can be used for the simulation.\n",
    "\n",
    "Here we reproduce the interface to the *simulate()* function."
   ]
  },
  {
   "cell_type": "code",
   "execution_count": 4,
   "metadata": {
    "collapsed": true
   },
   "outputs": [],
   "source": [
    "def simulate(init='init.ini', update=False):\n",
    "    \"\"\"\n",
    "            Parameters\n",
    "            ----------\n",
    "            \n",
    "                init: str, optional\n",
    "                    Path to the initialization file.\n",
    "                    \n",
    "                update: bool, optional\n",
    "                    Update structural parameters from info.grmpy.out.\n",
    "                                    \n",
    "            Results\n",
    "            -------\n",
    "            \n",
    "                simulation.infos.grmpy.out\n",
    "                    Text file with basic information on \n",
    "                    simulated economy.\n",
    "                    \n",
    "                *.dat\n",
    "                    Text file with simulated dataset. The file\n",
    "                    name is determined by the target flag in \n",
    "                    the SIMULATION section of the initalization \n",
    "                    file.\n",
    "                \n",
    "    \"\"\"\n",
    "    \n",
    "    pass\n"
   ]
  },
  {
   "cell_type": "markdown",
   "metadata": {},
   "source": [
    "Basic Workflow\n",
    "----------------"
   ]
  },
  {
   "cell_type": "markdown",
   "metadata": {},
   "source": [
    "Let us simulate a dataset and have a look at some basic information about the economy,"
   ]
  },
  {
   "cell_type": "code",
   "execution_count": 8,
   "metadata": {
    "collapsed": false
   },
   "outputs": [],
   "source": [
    "# Simulate dataset\n",
    "grmpy.simulate('example.grmpy.ini')\n",
    "\n",
    "# Inspect the results\n",
    "%cat simulation.infos.grmpy.out"
   ]
  },
  {
   "cell_type": "markdown",
   "metadata": {},
   "source": [
    "Now we run an estimation."
   ]
  },
  {
   "cell_type": "code",
   "execution_count": 7,
   "metadata": {
    "collapsed": false
   },
   "outputs": [],
   "source": [
    "# Estimate model\n",
    "grmpy.estimate('example.grmpy.ini', use_simulation=True)\n",
    "\n",
    "# Inspect the results\n",
    "%cat info.grmpy.out"
   ]
  },
  {
   "cell_type": "code",
   "execution_count": 1,
   "metadata": {
    "collapsed": false
   },
   "outputs": [
    {
     "name": "stdout",
     "output_type": "stream",
     "text": [
      "The slowest run took 5.15 times longer than the fastest. This could mean that an intermediate result is being cached \n",
      "100000 loops, best of 3: 7.35 µs per loop\n"
     ]
    }
   ],
   "source": [
    "%timeit range(1000)"
   ]
  },
  {
   "cell_type": "code",
   "execution_count": null,
   "metadata": {
    "collapsed": true
   },
   "outputs": [],
   "source": []
  }
 ],
 "metadata": {
  "kernelspec": {
   "display_name": "Python 2",
   "language": "python",
   "name": "python2"
  },
  "language_info": {
   "codemirror_mode": {
    "name": "ipython",
    "version": 2
   },
   "file_extension": ".py",
   "mimetype": "text/x-python",
   "name": "python",
   "nbconvert_exporter": "python",
   "pygments_lexer": "ipython2",
   "version": "2.7.9"
  }
 },
 "nbformat": 4,
 "nbformat_minor": 0
}
