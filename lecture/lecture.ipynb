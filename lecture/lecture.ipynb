{
 "cells": [
  {
   "cell_type": "code",
   "execution_count": 1,
   "metadata": {
    "collapsed": false
   },
   "outputs": [
    {
     "data": {
      "text/html": [
       "/*\n",
       "Placeholder for custom user CSS\n",
       "\n",
       "mainly to be overridden in profile/static/custom/custom.css\n",
       "\n",
       "This will always be an empty file in IPython\n",
       "*/\n",
       "\n",
       "\n",
       "\n",
       "<link href='http://fonts.googleapis.com/css?family=Alegreya+Sans:100,300,400,500,700,800,900,100italic,300italic,400italic,500italic,700italic,800italic,900italic' rel='stylesheet' type='text/css'>\n",
       "<link href='http://fonts.googleapis.com/css?family=Arvo:400,700,400italic' rel='stylesheet' type='text/css'>\n",
       "<link href='http://fonts.googleapis.com/css?family=PT+Mono' rel='stylesheet' type='text/css'>\n",
       "<link href='http://fonts.googleapis.com/css?family=Shadows+Into+Light' rel='stylesheet' type='text/css'>\n",
       "<link href='http://fonts.googleapis.com/css?family=Philosopher:400,700,400italic,700italic' rel='stylesheet' type='text/css'>\n",
       "\n",
       "<style>\n",
       "\n",
       "@font-face {\n",
       "    font-family: \"Computer Modern\";\n",
       "    src: url('http://mirrors.ctan.org/fonts/cm-unicode/fonts/otf/cmunss.otf');\n",
       "}\n",
       "\n",
       "#notebook_panel { /* main background */\n",
       "    background: #888;\n",
       "    color: #f6f6f6;\n",
       "}\n",
       "\n",
       "\n",
       "div.cell { /* set cell width to about 80 chars */\n",
       "    width: 1000px;\n",
       "}\n",
       "\n",
       "div #notebook { /* centre the content */\n",
       "    background: #fff; /* white background for content */\n",
       "    width: 1200px;\n",
       "    margin: auto;\n",
       "    padding-left: 1em;\n",
       "}\n",
       "\n",
       "#notebook li { /* More space between bullet points */\n",
       "margin-top:0.8em;\n",
       "}\n",
       "\n",
       "/* draw border around running cells */\n",
       "div.cell.border-box-sizing.code_cell.running {\n",
       "    border: 3px solid #111;\n",
       "}\n",
       "\n",
       "/* Put a solid color box around each cell and its output, visually linking them together */\n",
       "div.cell.code_cell {\n",
       "    background-color: rgba(171,165,131,0.3); \n",
       "    border-radius: 10px; /* rounded borders */\n",
       "    padding: 1em;\n",
       "    margin-top: 1em;\n",
       "}\n",
       "\n",
       "div.text_cell_render{\n",
       "    font-family: 'Arvo' sans-serif;\n",
       "    line-height: 130%;\n",
       "    font-size: 150%;\n",
       "    width:900px;\n",
       "    margin-left:auto;\n",
       "    margin-right:auto;\n",
       "}\n",
       "\n",
       "/* Formatting for header cells */\n",
       ".text_cell_render h1 {\n",
       "    font-family: 'Philosopher', sans-serif;\n",
       "    font-weight: 400;\n",
       "    font-size: 32pt;\n",
       "    line-height: 100%;\n",
       "    color: rgb(12,85,97);\n",
       "    margin-bottom: 0.1em;\n",
       "    margin-top: 0.1em;\n",
       "    display: block;\n",
       "}\n",
       "\n",
       ".text_cell_render h2 {\n",
       "    font-family: 'Philosopher', serif;\n",
       "    font-weight: 700;\n",
       "    font-size: 24pt;\n",
       "    line-height: 100%;\n",
       "    color: rgb(171,165,131);\n",
       "    margin-bottom: 0.1em;\n",
       "    margin-top: 0.1em;\n",
       "    display: block;\n",
       "}    \n",
       "\n",
       ".text_cell_render h3 {\n",
       "    font-family: 'Philosopher', serif;\n",
       "    margin-top:12px;\n",
       "    margin-bottom: 3px;\n",
       "    font-style: italic;\n",
       "    color: rgb(95,92,72);\n",
       "}\n",
       "\n",
       ".text_cell_render h4 {\n",
       "    font-family: 'Philosopher', serif;\n",
       "}\n",
       "\n",
       ".text_cell_render h5 {\n",
       "    font-family: 'Alegreya Sans', sans-serif;\n",
       "    font-weight: 300;\n",
       "    font-size: 16pt;\n",
       "    color: grey;\n",
       "    font-style: italic;\n",
       "    margin-bottom: .1em;\n",
       "    margin-top: 0.1em;\n",
       "    display: block;\n",
       "}\n",
       "\n",
       ".text_cell_render h6 {\n",
       "    font-family: 'PT Mono', sans-serif;\n",
       "    font-weight: 300;\n",
       "    font-size: 10pt;\n",
       "    color: grey;\n",
       "    margin-bottom: 1px;\n",
       "    margin-top: 1px;\n",
       "}\n",
       "\n",
       ".CodeMirror{\n",
       "        font-family: \"PT Mono\";\n",
       "        font-size: 120%;\n",
       "}\n",
       "\n",
       "</style>"
      ],
      "text/plain": [
       "<IPython.core.display.HTML object>"
      ]
     },
     "execution_count": 1,
     "metadata": {},
     "output_type": "execute_result"
    }
   ],
   "source": [
    "from IPython.core.display import HTML, Image\n",
    "css_file = 'material/msc/custom.css' \n",
    "HTML(open(css_file, 'r').read())"
   ]
  },
  {
   "cell_type": "markdown",
   "metadata": {},
   "source": [
    "# Public Package "
   ]
  },
  {
   "cell_type": "markdown",
   "metadata": {},
   "source": [
    "Let us consider the different roles we play when estimating the generalized Roy model in our research."
   ]
  },
  {
   "cell_type": "code",
   "execution_count": 2,
   "metadata": {
    "collapsed": false
   },
   "outputs": [
    {
     "data": {
      "image/png": "[encoded data removed]",
      "text/plain": [
       "<IPython.core.display.Image object>"
      ]
     },
     "execution_count": 2,
     "metadata": {
      "image/png": {
       "width": 1000
      }
     },
     "output_type": "execute_result"
    }
   ],
   "source": [
    "Image(filename='material/images/venn_diagram.png', width=1000)"
   ]
  },
  {
   "cell_type": "markdown",
   "metadata": {},
   "source": [
    "The *grmpy*  packate can be used to estimate the benefits, cost, and surplus using your own data and using simulated data. \n",
    "\n",
    "    Eisenhauer, Philipp and James Heckman, Edward Vytlacil (2014): The Generalized Roy Model and the Cost-Benefit Analysis of Social Programs, Journal of Political Economy, 123(2): 413-443.\n",
    "\n",
    "\n",
    "There are two functions: (1) estimate and (2) simulate.\n",
    "\n",
    "The grmpy package includes a sample dataset, 'test.dat', and a sample init file 'test.ini' that are included to provide an example of how the two functions work.\n",
    "\n",
    "This tutorial reviews using both function with those sample files."
   ]
  },
  {
   "cell_type": "markdown",
   "metadata": {},
   "source": [
    "## Model"
   ]
  },
  {
   "cell_type": "markdown",
   "metadata": {},
   "source": [
    "## Initialization File\n",
    "\n",
    "We use an initialization file to specify the model.\n",
    "\n",
    "```\n",
    "DATA\n",
    "\tsource\t\t../data/test.dat\n",
    "\tagents \t\t10000\n",
    "\n",
    "\toutcome\t\t0\n",
    "\ttreatment\t1\n",
    "\n",
    "BENE\n",
    "        \n",
    "\tcoeff  2  0.00\t0.00\tfalse\n",
    "\tcoeff  3  0.00\t0.00\ttrue\n",
    "\n",
    "\tcoeff  4  0.00\t0.00\ttrue\n",
    "\t\n",
    "\tint       0.00\t0.00\n",
    "\tsd        1.00\t1.00\n",
    "\n",
    "COST\n",
    "\n",
    "\tcoeff  4  0.00\n",
    "\tcoeff  5  0.00\n",
    "\t\n",
    "\tint       0.00\n",
    "\tsd        !1.00\n",
    "\n",
    "RHO\n",
    "\n",
    "\t treated   0.0\n",
    "\t untreated   0.0\n",
    "\n",
    "ESTIMATION\n",
    "\t\n",
    "\talgorithm \tbfgs\n",
    "\tmaxiter    \t15\n",
    "\tstart\t\tmanual\n",
    "\tgtol       \t1e-05\n",
    "\n",
    "\tepsilon    \t1.4901161193847656e-08\n",
    "\tdifferences\tone-sided\n",
    "\n",
    "\tasymptotics true\n",
    "\thessian    \tnumdiff\n",
    "\n",
    "\tdraws    \t1000\n",
    "\talpha\t\t0.05\n",
    "\n",
    "\tversion     fast\n",
    "\n",
    "SIMULATION\n",
    "\n",
    "\tagents\t\t1747\n",
    "\tseed \t  \t123\n",
    "\ttarget  \tsimulation.dat\n",
    "\n",
    "```"
   ]
  },
  {
   "cell_type": "markdown",
   "metadata": {},
   "source": [
    "## Getting Started\n",
    "\n",
    "You can incorporate the *grmpy* package's functions in any python project after first importing it just as you would any other python library"
   ]
  },
  {
   "cell_type": "code",
   "execution_count": 3,
   "metadata": {
    "collapsed": false
   },
   "outputs": [
    {
     "name": "stdout",
     "output_type": "stream",
     "text": [
      "Populating the interactive namespace from numpy and matplotlib\n"
     ]
    }
   ],
   "source": [
    "# Edits to PYTHONPATH\n",
    "import sys\n",
    "sys.path.insert(0, '../')\n",
    "sys.path.insert(0, 'material/modules')\n",
    "\n",
    "# Import grmpy package\n",
    "import grmpy\n",
    "\n",
    "# Let us run some basic tests\n",
    "grmpy.test()\n",
    "\n",
    "# Import some auxiliary functions\n",
    "import auxiliary as aux\n",
    "\n",
    "# Import parts of scientific computing stack\n",
    "import numpy as np\n",
    "\n",
    "# Import Python object serialization\n",
    "import pickle as pkl\n",
    "\n",
    "# Plotting \n",
    "%pylab inline --no-import-all"
   ]
  },
  {
   "cell_type": "markdown",
   "metadata": {},
   "source": [
    "There is only a limited number of tests distributed as part of the package [(sources)](https://github.com/grmToolbox/public.package/blob/master/grmpy/tests/test.py). However, we have many more tests set up as part of our development process [(sources)](https://github.com/grmToolbox/public.package/tree/master/testing)."
   ]
  },
  {
   "cell_type": "markdown",
   "metadata": {},
   "source": [
    "We briefly reproduce the interface to the *estimate* function."
   ]
  },
  {
   "cell_type": "code",
   "execution_count": null,
   "metadata": {
    "collapsed": true
   },
   "outputs": [],
   "source": [
    "def estimate(init='init.ini', resume=False, use_simulation=False):\n",
    "    \"\"\"\n",
    "            Parameters\n",
    "            ----------\n",
    "            \n",
    "                init: str, optional\n",
    "                    Path to the initialization file.\n",
    "                    \n",
    "                resume: bool, optional\n",
    "                    Restart estimation, requires info.grmpy.out.\n",
    "                    \n",
    "                use_simulation: bool, optional\n",
    "                    Use information from SIMULATION section of \n",
    "                    the initialiation file.\n",
    "                \n",
    "            Results\n",
    "            -------\n",
    "            \n",
    "                info.grmpy.out: file\n",
    "                    Text file with results from estimation run.\n",
    "                    \n",
    "                rslt.grmpy.pkl: serialized Python object    \n",
    "                    Results from estimation run.\n",
    "    \"\"\"\n",
    "    \n",
    "    pass\n"
   ]
  },
  {
   "cell_type": "markdown",
   "metadata": {},
   "source": [
    "For any initialization file, you can simulate a dataset for the specified data generating process. This is  useful to inspect properties of the simulated population but also testing the reliability of your estimator. Also, if information from a previous estimation run is available the estimated structural parameters can be used for the simulation.\n",
    "\n",
    "Here we reproduce the interface to the *simulate* function."
   ]
  },
  {
   "cell_type": "code",
   "execution_count": null,
   "metadata": {
    "collapsed": true
   },
   "outputs": [],
   "source": [
    "def simulate(init='init.ini', update=False):\n",
    "    \"\"\"\n",
    "            Parameters\n",
    "            ----------\n",
    "            \n",
    "                init: str, optional\n",
    "                    Path to the initialization file.\n",
    "                    \n",
    "                update: bool, optional\n",
    "                    Update structural parameters from info.grmpy.out.\n",
    "                                    \n",
    "            Results\n",
    "            -------\n",
    "            \n",
    "                simulation.infos.grmpy.out\n",
    "                    Text file with basic information on \n",
    "                    simulated economy.\n",
    "                    \n",
    "                *.dat\n",
    "                    Text file with simulated dataset. The file\n",
    "                    name is determined by the target flag in \n",
    "                    the SIMULATION section of the initalization \n",
    "                    file.\n",
    "                \n",
    "    \"\"\"\n",
    "    \n",
    "    pass\n"
   ]
  },
  {
   "cell_type": "markdown",
   "metadata": {},
   "source": [
    "## Basic Workflow"
   ]
  },
  {
   "cell_type": "markdown",
   "metadata": {},
   "source": [
    "We now run through the basic workflow. First, we simulate a dataset as specificed in the initialization file and then run an estimation run. "
   ]
  },
  {
   "cell_type": "markdown",
   "metadata": {},
   "source": [
    "### Simulation"
   ]
  },
  {
   "cell_type": "code",
   "execution_count": null,
   "metadata": {
    "collapsed": false
   },
   "outputs": [],
   "source": [
    "# Simulate dataset\n",
    "grmpy.simulate('example.grmpy.ini')\n",
    "\n",
    "# Inspect the results. \n",
    "%cat simulation.infos.grmpy.out"
   ]
  },
  {
   "cell_type": "markdown",
   "metadata": {},
   "source": [
    "Some basic descriptives about the simulated dataset are provided such as the distribution of agents across the different treatment states and the average observed outcomes within each treatment group. Also, the value of the criterion function\n",
    "at the true parameter values is printed out. To easily check the performance of the estimator later, we also print the true parameter values used in the simulation. "
   ]
  },
  {
   "cell_type": "markdown",
   "metadata": {},
   "source": [
    "### Estimation"
   ]
  },
  {
   "cell_type": "code",
   "execution_count": null,
   "metadata": {
    "collapsed": false
   },
   "outputs": [],
   "source": [
    "# Estimate model\n",
    "grmpy.estimate('example.grmpy.ini', use_simulation=True)\n",
    "\n",
    "# Inspect the rparas_objesults\n",
    "%cat info.grmpy.out"
   ]
  },
  {
   "cell_type": "markdown",
   "metadata": {},
   "source": [
    "At the beginning, the file contains some information about the optimization process such as start and stop values and a report from the optimizer. Also, the parametrc estimates for the marginal effects of treatment are written out."
   ]
  },
  {
   "cell_type": "code",
   "execution_count": null,
   "metadata": {
    "collapsed": false
   },
   "outputs": [],
   "source": [
    "str_ = '{0:10.2f}{1:10.2f}{2:10.2f}{3:10.2f}'\n",
    "\n",
    "START, STOP, TRUE = aux.get_parameters()\n",
    "\n",
    "print '\\n      START     STOP      TRUE      DIFF\\n'\n",
    "\n",
    "for i in range(len(STOP)):\n",
    "\n",
    "    print str_.format(START[i], STOP[i], TRUE[i], np.abs(STOP[i] - TRUE[i]))\n"
   ]
  },
  {
   "cell_type": "markdown",
   "metadata": {},
   "source": [
    "### Visualization"
   ]
  },
  {
   "cell_type": "markdown",
   "metadata": {},
   "source": [
    "To ease further processing, some information is also stored in the *rslt.grmpy.pkl* object. For example, it contains the point estimates and confidence bounds (if requested) for the marginal effect parameters. "
   ]
  },
  {
   "cell_type": "code",
   "execution_count": null,
   "metadata": {
    "collapsed": false
   },
   "outputs": [],
   "source": [
    "# Load serialized dictionary with result\n",
    "# information.\n",
    "rslt_dict = pkl.load(open('rslt.grmpy.pkl', 'r'))\n",
    "\n",
    "# Extract the marginal effects of treatment at the\n",
    "# average of relevant observable characteristics.\n",
    "# Note that at the points of evaluation the ex ante\n",
    "# and ex post versions of the marginal benefits of\n",
    "# treatment are identical.\n",
    "bmte = rslt_dict['bmte_ex_post']['estimate']\n",
    "cmte = rslt_dict['cmte_ex_ante']['estimate']\n",
    "smte = rslt_dict['smte_ex_ante']['estimate']\n",
    "\n",
    "# The confidence intervals can be accessed by \n",
    "# accessing the `confi' key."
   ]
  },
  {
   "cell_type": "markdown",
   "metadata": {},
   "source": [
    "These can be used to create visual representation of the marginal effects of treatment."
   ]
  },
  {
   "cell_type": "code",
   "execution_count": null,
   "metadata": {
    "collapsed": false
   },
   "outputs": [],
   "source": [
    "aux.graph_marginal_effects(bmte, cmte, smte)"
   ]
  },
  {
   "cell_type": "markdown",
   "metadata": {},
   "source": [
    "For alternative points of evaluation, the results from the estimation run need to be processed for further processing (stored in *info.grmpy.out*)."
   ]
  },
  {
   "cell_type": "markdown",
   "metadata": {},
   "source": [
    "## Monte Carlo Exercise\n",
    "\n",
    "Let us assume we just finished estimation run on actual data. What is a good way to gain some confidence in your results and communicate it to your fellow researchers? I use the following Monte Carlo Exercise:"
   ]
  },
  {
   "cell_type": "code",
   "execution_count": 4,
   "metadata": {
    "collapsed": false
   },
   "outputs": [
    {
     "data": {
      "image/png": "[encoded data removed]",
      "text/plain": [
       "<IPython.core.display.Image object>"
      ]
     },
     "execution_count": 4,
     "metadata": {
      "image/png": {
       "width": 1000
      }
     },
     "output_type": "execute_result"
    }
   ],
   "source": [
    "Image(filename='material/images/monte_carlo.png', width=1000)"
   ]
  },
  {
   "cell_type": "markdown",
   "metadata": {},
   "source": [
    "$M(\\psi)$ denotes the structural model parametrized by $\\psi$, which is fit to the observed data $D_obs$ to produce an estimated set of parameters $\\psi_{obs}$. Using the initial estimates as the parametrization for the Monte Carlo exercise ensures that important features of the data-generating process, such as unobserved variability in agent behaviors and outcomes, are accounted for.\n",
    "In Step 2, it is crucial to follow the same estimation approach applied to the original data as closely as possible, for example, choice of starting values. This exercise showcases the performance of the estimator in a favorable setting as the model is correctly specified. If the structural parameters $\\psi_{syn}$ are successfully recovered, this is encouraging but does not provide a definite proof of the performance in the observed data. A failure, however, offers reason for concern.\n",
    "Given the design of the toolbox, implementing the idea is straightforward. Of course, this is not by accident.\n",
    "Let us start with a baseline estimation."
   ]
  }
 ],
 "metadata": {
  "kernelspec": {
   "display_name": "Python 2",
   "language": "python",
   "name": "python2"
  },
  "language_info": {
   "codemirror_mode": {
    "name": "ipython",
    "version": 2
   },
   "file_extension": ".py",
   "mimetype": "text/x-python",
   "name": "python",
   "nbconvert_exporter": "python",
   "pygments_lexer": "ipython2",
   "version": "2.7.9"
  }
 },
 "nbformat": 4,
 "nbformat_minor": 0
}
