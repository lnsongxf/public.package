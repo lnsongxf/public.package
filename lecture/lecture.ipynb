{
 "cells": [
  {
   "cell_type": "code",
   "execution_count": 1,
   "metadata": {},
   "outputs": [
    {
     "data": {
      "text/html": [
       "/*\n",
       "Placeholder for custom user CSS\n",
       "\n",
       "mainly to be overridden in profile/static/custom/custom.css\n",
       "\n",
       "This will always be an empty file in IPython\n",
       "*/\n",
       "\n",
       "\n",
       "\n",
       "<link href='http://fonts.googleapis.com/css?family=Alegreya+Sans:100,300,400,500,700,800,900,100italic,300italic,400italic,500italic,700italic,800italic,900italic' rel='stylesheet' type='text/css'>\n",
       "<link href='http://fonts.googleapis.com/css?family=Arvo:400,700,400italic' rel='stylesheet' type='text/css'>\n",
       "<link href='http://fonts.googleapis.com/css?family=PT+Mono' rel='stylesheet' type='text/css'>\n",
       "<link href='http://fonts.googleapis.com/css?family=Shadows+Into+Light' rel='stylesheet' type='text/css'>\n",
       "<link href='http://fonts.googleapis.com/css?family=Philosopher:400,700,400italic,700italic' rel='stylesheet' type='text/css'>\n",
       "\n",
       "<style>\n",
       "\n",
       "@font-face {\n",
       "    font-family: \"Computer Modern\";\n",
       "    src: url('http://mirrors.ctan.org/fonts/cm-unicode/fonts/otf/cmunss.otf');\n",
       "}\n",
       "\n",
       "#notebook_panel { /* main background */\n",
       "    background: #888;\n",
       "    color: #f6f6f6;\n",
       "}\n",
       "\n",
       "\n",
       "div.cell { /* set cell width to about 80 chars */\n",
       "    width: 1000px;\n",
       "}\n",
       "\n",
       "div #notebook { /* centre the content */\n",
       "    background: #fff; /* white background for content */\n",
       "    width: 1200px;\n",
       "    margin: auto;\n",
       "    padding-left: 1em;\n",
       "}\n",
       "\n",
       "#notebook li { /* More space between bullet points */\n",
       "margin-top:0.8em;\n",
       "}\n",
       "\n",
       "/* draw border around running cells */\n",
       "div.cell.border-box-sizing.code_cell.running {\n",
       "    border: 3px solid #111;\n",
       "}\n",
       "\n",
       "/* Put a solid color box around each cell and its output, visually linking them together */\n",
       "div.cell.code_cell {\n",
       "    background-color: rgba(171,165,131,0.3); \n",
       "    border-radius: 10px; /* rounded borders */\n",
       "    padding: 1em;\n",
       "    margin-top: 1em;\n",
       "}\n",
       "\n",
       "div.text_cell_render{\n",
       "    font-family: 'Arvo' sans-serif;\n",
       "    line-height: 130%;\n",
       "    font-size: 150%;\n",
       "    width:900px;\n",
       "    margin-left:auto;\n",
       "    margin-right:auto;\n",
       "}\n",
       "\n",
       "/* Formatting for header cells */\n",
       ".text_cell_render h1 {\n",
       "    font-family: 'Philosopher', sans-serif;\n",
       "    font-weight: 400;\n",
       "    font-size: 32pt;\n",
       "    line-height: 100%;\n",
       "    color: rgb(12,85,97);\n",
       "    margin-bottom: 0.1em;\n",
       "    margin-top: 0.1em;\n",
       "    display: block;\n",
       "}\n",
       "\n",
       ".text_cell_render h2 {\n",
       "    font-family: 'Philosopher', serif;\n",
       "    font-weight: 700;\n",
       "    font-size: 24pt;\n",
       "    line-height: 100%;\n",
       "    color: rgb(171,165,131);\n",
       "    margin-bottom: 0.1em;\n",
       "    margin-top: 0.1em;\n",
       "    display: block;\n",
       "}    \n",
       "\n",
       ".text_cell_render h3 {\n",
       "    font-family: 'Philosopher', serif;\n",
       "    margin-top:12px;\n",
       "    margin-bottom: 3px;\n",
       "    font-style: italic;\n",
       "    color: rgb(95,92,72);\n",
       "}\n",
       "\n",
       ".text_cell_render h4 {\n",
       "    font-family: 'Philosopher', serif;\n",
       "}\n",
       "\n",
       ".text_cell_render h5 {\n",
       "    font-family: 'Alegreya Sans', sans-serif;\n",
       "    font-weight: 300;\n",
       "    font-size: 16pt;\n",
       "    color: grey;\n",
       "    font-style: italic;\n",
       "    margin-bottom: .1em;\n",
       "    margin-top: 0.1em;\n",
       "    display: block;\n",
       "}\n",
       "\n",
       ".text_cell_render h6 {\n",
       "    font-family: 'PT Mono', sans-serif;\n",
       "    font-weight: 300;\n",
       "    font-size: 10pt;\n",
       "    color: grey;\n",
       "    margin-bottom: 1px;\n",
       "    margin-top: 1px;\n",
       "}\n",
       "\n",
       ".CodeMirror{\n",
       "        font-family: \"PT Mono\";\n",
       "        font-size: 120%;\n",
       "}\n",
       "\n",
       "</style>"
      ]
     },
     "output_type": "execute_result",
     "metadata": {}
    }
   ],
   "source": [
    "from IPython.core.display import HTML, Image\n",
    "css_file = 'msc/custom.css' \n",
    "HTML(open(css_file, 'r').read())"
   ]
  },
  {
   "cell_type": "markdown",
   "metadata": {},
   "source": [
    "# *grmToolbox* \n",
    "\n",
    "Let us consider the different roles we play when estimating the generalized Roy model in our research."
   ]
  },
  {
   "cell_type": "code",
   "execution_count": 2,
   "metadata": {},
   "outputs": [
    {
     "data": {
      "image/png": "[encoded data removed]"
     },
     "output_type": "display_data",
     "metadata": {}
    }
   ],
   "source": [
    "Image(filename='images/venn_diagram.png', width=1000)"
   ]
  },
  {
   "cell_type": "markdown",
   "metadata": {},
   "source": [
    "Building a toolbox is an attempt to separate the roles as much as possible. \n"
   ]
  },
  {
   "cell_type": "markdown",
   "metadata": {},
   "source": [
    "Let us check out our [online](https://github.com/grmtoolbox) presence on *GitHub*. We also have prepared some [online documentation](http://grmtoolbox.github.io/) using *GitHub Pages*. Before we get started, let us import some basic libraries."
   ]
  },
  {
   "cell_type": "code",
   "execution_count": 3,
   "metadata": {},
   "outputs": [],
   "source": [
    "# Unix Pattern Extensions\n",
    "import glob\n",
    "\n",
    "# System-specific parameters and functions\n",
    "import sys\n",
    "\n",
    "# Operating System Interfaces\n",
    "import os\n",
    "\n",
    "# Scientific Computing \n",
    "import numpy as np\n",
    "\n",
    "# High-level File Operations\n",
    "import shutil\n",
    "\n",
    "# Notebook Displays\n",
    "from IPython.display import display, HTML, Image"
   ]
  },
  {
   "cell_type": "markdown",
   "metadata": {},
   "source": [
    "Download the recent release:"
   ]
  },
  {
   "cell_type": "code",
   "execution_count": 15,
   "metadata": {},
   "outputs": [
    {
     "name": "stdout",
     "output_type": "stream",
     "text": [
      "grmToolbox-1.1.0/\n",
      "grmToolbox-1.1.0/COPYING\n",
      "grmToolbox-1.1.0/README.md\n",
      "grmToolbox-1.1.0/__init__.py\n",
      "grmToolbox-1.1.0/bin/\n",
      "grmToolbox-1.1.0/bin/grmToolbox-clean\n",
      "grmToolbox-1.1.0/bin/grmToolbox-estimate\n",
      "grmToolbox-1.1.0/bin/grmToolbox-perturb\n",
      "grmToolbox-1.1.0/bin/grmToolbox-simulate\n",
      "grmToolbox-1.1.0/bin/grmToolbox-terminate\n",
      "grmToolbox-1.1.0/clsCrit.py\n",
      "grmToolbox-1.1.0/clsEffects.py\n",
      "grmToolbox-1.1.0/clsGrm.py\n",
      "grmToolbox-1.1.0/clsMax.py\n",
      "grmToolbox-1.1.0/clsMeta.py\n",
      "grmToolbox-1.1.0/clsModel.py\n",
      "grmToolbox-1.1.0/clsParas.py\n",
      "grmToolbox-1.1.0/clsRequest.py\n",
      "grmToolbox-1.1.0/clsRslt.py\n",
      "grmToolbox-1.1.0/dat/\n",
      "grmToolbox-1.1.0/dat/testData_A.dat\n",
      "grmToolbox-1.1.0/dat/testInit_A.ini\n",
      "grmToolbox-1.1.0/dat/testInit_B.ini\n",
      "grmToolbox-1.1.0/dat/testInit_C.ini\n",
      "grmToolbox-1.1.0/dat/testInit_D.ini\n",
      "grmToolbox-1.1.0/dat/testInit_E.ini\n",
      "grmToolbox-1.1.0/example/\n",
      "grmToolbox-1.1.0/example/dataset.dat\n",
      "grmToolbox-1.1.0/example/init.ini\n",
      "grmToolbox-1.1.0/grmToolbox.py\n",
      "grmToolbox-1.1.0/modMaxInterface.py\n",
      "grmToolbox-1.1.0/scripts/\n",
      "grmToolbox-1.1.0/scripts/__init__.py\n",
      "grmToolbox-1.1.0/scripts/clean.py\n",
      "grmToolbox-1.1.0/scripts/estimate.py\n",
      "grmToolbox-1.1.0/scripts/perturb.py\n",
      "grmToolbox-1.1.0/scripts/simulate.py\n",
      "grmToolbox-1.1.0/scripts/terminate.py\n",
      "grmToolbox-1.1.0/tests/\n",
      "grmToolbox-1.1.0/tests/__init__.py\n",
      "grmToolbox-1.1.0/tests/testParasCls.py\n",
      "grmToolbox-1.1.0/tests/wscript\n",
      "grmToolbox-1.1.0/tools/\n",
      "grmToolbox-1.1.0/tools/__init__.py\n",
      "grmToolbox-1.1.0/tools/initFile/\n",
      "grmToolbox-1.1.0/tools/initFile/__init__.py\n",
      "grmToolbox-1.1.0/tools/initFile/_checkInput.py\n",
      "grmToolbox-1.1.0/tools/initFile/_createDictionary.py\n",
      "grmToolbox-1.1.0/tools/initFile/_createModel.py\n",
      "grmToolbox-1.1.0/tools/initFile/_createParas.py\n",
      "grmToolbox-1.1.0/tools/initFile/_createRequest.py\n",
      "grmToolbox-1.1.0/tools/initFile/interface.py\n",
      "grmToolbox-1.1.0/tools/modAuxiliaryFunctions.py\n",
      "grmToolbox-1.1.0/tools/runPyScript.py\n",
      "grmToolbox-1.1.0/waf\n",
      "grmToolbox-1.1.0/wscript\n"
     ]
    },
    {
     "name": "stderr",
     "output_type": "stream",
     "text": [
      "--2015-05-27 11:38:45--  https://github.com/grmToolbox/grmToolbox/archive/v1.1.0.tar.gz\n",
      "Resolving github.com (github.com)... 192.30.252.128\n",
      "Connecting to github.com (github.com)|192.30.252.128|:443... connected.\n",
      "HTTP request sent, awaiting response... 302 Found\n",
      "Location: https://codeload.github.com/grmToolbox/grmToolbox/tar.gz/v1.1.0 [following]\n",
      "--2015-05-27 11:38:50--  https://codeload.github.com/grmToolbox/grmToolbox/tar.gz/v1.1.0\n",
      "Resolving codeload.github.com (codeload.github.com)... 192.30.252.146\n",
      "Connecting to codeload.github.com (codeload.github.com)|192.30.252.146|:443... connected.\n",
      "HTTP request sent, awaiting response... 200 OK\n",
      "Length: 610808 (596K) [application/x-gzip]\n",
      "Saving to: ‘grmToolbox.tar.gz’\n",
      "\n",
      "     0K .......... .......... .......... .......... ..........  8% 1,34M 0s\n",
      "    50K .......... .......... .......... .......... .......... 16% 2,81M 0s\n",
      "   100K .......... .......... .......... .......... .......... 25% 10,1M 0s\n",
      "   150K .......... .......... .......... .......... .......... 33% 3,66M 0s\n",
      "   200K .......... .......... .......... .......... .......... 41% 10,9M 0s\n",
      "   250K .......... .......... .......... .......... .......... 50% 8,42M 0s\n",
      "   300K .......... .......... .......... .......... .......... 58% 11,9M 0s\n",
      "   350K .......... .......... .......... .......... .......... 67% 2,05M 0s\n",
      "   400K .......... .......... .......... .......... .......... 75%  133M 0s\n",
      "   450K .......... .......... .......... .......... .......... 83%  144M 0s\n",
      "   500K .......... .......... .......... .......... .......... 92%  119M 0s\n",
      "   550K .......... .......... .......... .......... ......    100% 80,9M=0,1s\n",
      "\n",
      "2015-05-27 11:38:51 (5,21 MB/s) - ‘grmToolbox.tar.gz’ saved [610808/610808]\n",
      "\n",
      "mv: cannot move ‘grmToolbox-1.1.0’ to ‘grmToolbox/grmToolbox-1.1.0’: Directory not empty\n"
     ]
    }
   ],
   "source": [
    "%%bash\n",
    "\n",
    "# Download archived file to working directory\n",
    "wget -O grmToolbox.tar.gz https://github.com/grmToolbox/grmToolbox/archive/v1.1.0.tar.gz\n",
    "\n",
    "# Unpack file\n",
    "tar -xvf grmToolbox.tar.gz\n",
    "\n",
    "# Renaming\n",
    "mv grmToolbox-1.1.0 grmToolbox\n",
    "\n",
    "# Copy example to current working directory\n",
    "cp -r grmToolbox/example ."
   ]
  },
  {
   "cell_type": "markdown",
   "metadata": {},
   "source": [
    "Before we turn to the program’s features, we need to modify our *PATH* variable quick access to the controls. "
   ]
  },
  {
   "cell_type": "code",
   "execution_count": 5,
   "metadata": {},
   "outputs": [],
   "source": [
    "# String that prepends to PATH\n",
    "str_ = 'export PATH=' + os.getcwd() + '/grmToolbox/bin:$PATH'\n",
    "\n",
    "# Construct absolute path of $HOME/.profile\n",
    "FIlE = os.environ['HOME'] + '/.profile'\n",
    "\n",
    "# Check if path already extended\n",
    "PATH_UNDEFINED = (str_ in open(FIlE).read())\n",
    "\n",
    "# Modify $HOME/.profile\n",
    "if not PATH_UNDEFINED:\n",
    "    with open(FIlE, 'a') as file_:\n",
    "        file_.write(str_ + '\\n')"
   ]
  },
  {
   "cell_type": "markdown",
   "metadata": {},
   "source": [
    "## Explore\n",
    "\n",
    "Let us explore the capabilities of the toolbox following the [online documentation](http://grmtoolbox.github.io). For a more advanced example of a computational toolbox, check out [structToolbox](http://structtoolbox.github.io)."
   ]
  },
  {
   "cell_type": "markdown",
   "metadata": {},
   "source": [
    "Again, the model and our estimation request is stated in our initialization file. Details are available [here](http://grmtoolbox.github.io/programInstructions.html)."
   ]
  },
  {
   "cell_type": "code",
   "execution_count": 6,
   "metadata": {},
   "outputs": [
    {
     "data": {
      "image/png": "[encoded data removed]"
     },
     "output_type": "display_data",
     "metadata": {}
    }
   ],
   "source": [
    "Image(filename='images/init.png')"
   ]
  },
  {
   "cell_type": "markdown",
   "metadata": {},
   "source": [
    "**Commands**\n",
    "\n",
    "* *grmToolbox-estimate*\n",
    "        Run an estimation with the current configuration\n",
    "\n",
    "* *grmToolbox-simulate*\n",
    "        Create data simulated using the current values of the \n",
    "        structural parameters.\n",
    "\n",
    "* *grmToolbox-terminate*\n",
    "        Terminate the optimization algorithm.\n",
    "\n",
    "* *grmToolbox-perturb*\n",
    "        Perturb the current set of structural parameters.\n",
    "\n",
    "* *grmToolbox-clean*\n",
    "        Cleanup after estimation run\n",
    "        \n",
    "We can use the terminal to obtain additional information about these commands."
   ]
  },
  {
   "cell_type": "code",
   "execution_count": 7,
   "metadata": {},
   "outputs": [
    {
     "name": "stdout",
     "output_type": "stream",
     "text": [
      "usage: grmToolbox-simulate [-h] [--init INIT] [--update]\n",
      "\n",
      "Start simulation using the grmToolbox.\n",
      "\n",
      "optional arguments:\n",
      "  -h, --help   show this help message and exit\n",
      "  --init INIT  source for model configuration (default: init.ini)\n",
      "  --update     update structural parameters (default: False)\n"
     ]
    }
   ],
   "source": [
    "%%bash\n",
    "grmToolbox-simulate -h"
   ]
  },
  {
   "cell_type": "markdown",
   "metadata": {},
   "source": [
    "Let's now turn to the example. What files are contained in the directory and what role do they play."
   ]
  },
  {
   "cell_type": "markdown",
   "metadata": {},
   "source": [
    "example/\n",
    "\n",
    "      dataset.dat\n",
    "      init.ini"
   ]
  },
  {
   "cell_type": "markdown",
   "metadata": {},
   "source": [
    "However, the agent count in the observed and simulated datasets is very high. In order to save some time, let us reduce the number of agents to 2,000."
   ]
  },
  {
   "cell_type": "code",
   "execution_count": 21,
   "metadata": {},
   "outputs": [],
   "source": [
    "%%bash\n",
    "cd example\n",
    "grmToolbox-simulate\n",
    "cp simulation.dat dataset.dat"
   ]
  },
  {
   "cell_type": "markdown",
   "metadata": {},
   "source": [
    "Let us explore the estimation command and run an estimation on the example."
   ]
  },
  {
   "cell_type": "code",
   "execution_count": 8,
   "metadata": {},
   "outputs": [
    {
     "name": "stdout",
     "output_type": "stream",
     "text": [
      "usage: grmToolbox-estimate [-h] [--resume] [--simulation] [--init INITFILE]\n",
      "\n",
      "Start estimation run using the grmToolbox.\n",
      "\n",
      "optional arguments:\n",
      "  -h, --help       show this help message and exit\n",
      "  --resume         resume estimation run (default: False)\n",
      "  --simulation     use SIMULATION information (default: False)\n",
      "  --init INITFILE  source for model configuration (default: init.ini)\n"
     ]
    }
   ],
   "source": [
    "%%bash\n",
    "grmToolbox-estimate -h"
   ]
  },
  {
   "cell_type": "code",
   "execution_count": 9,
   "metadata": {},
   "outputs": [
    {
     "name": "stdout",
     "output_type": "stream",
     "text": [
      "total 1424\n",
      "-rw-rw-r-- 1 peisenha peisenha  192000 Mai 27 11:35 dataset.dat\n",
      "-rwxrwxr-x 1 peisenha peisenha     694 Mai 27 11:35 init.ini\n",
      "-rw-rw-r-- 1 peisenha peisenha   14893 Mai 27 11:34 rslt.grm.log\n",
      "-rw-rw-r-- 1 peisenha peisenha 1011826 Mai 27 11:34 rsltObj.grm.pkl\n",
      "-rw-rw-r-- 1 peisenha peisenha  192000 Mai 27 11:35 simulation.dat\n",
      "-rw-rw-r-- 1 peisenha peisenha     251 Mai 27 11:35 simulation.infos.grm.out\n",
      "-rw-rw-r-- 1 peisenha peisenha     256 Mai 27 11:35 simulation.paras.grm.out\n"
     ]
    }
   ],
   "source": [
    "%%bash\n",
    "\n",
    "# Change into the working directory\n",
    "cd example\n",
    "\n",
    "# Let us check out the files\n",
    "ls -l\n",
    "\n",
    "# Let us estimate examples\n",
    "grmToolbox-estimate --init init.ini"
   ]
  },
  {
   "cell_type": "markdown",
   "metadata": {},
   "source": [
    "Our estimation run created some new files."
   ]
  },
  {
   "cell_type": "markdown",
   "metadata": {},
   "source": [
    "example/\n",
    "\n",
    "      dataset.dat\n",
    "      init.ini\n",
    "      \n",
    "      grmToolbox.grm.log     # Documentation of optimization\n",
    "      rslt.grm.log           # Result for the treatment effects\n",
    "      rsltObj.grm.pkl        # Python object with all results \n",
    "      startParas.grm.out     # Starting values for parameters\n",
    "      stepParas.grm.out      # Final values for parameters"
   ]
  },
  {
   "cell_type": "code",
   "execution_count": null,
   "metadata": {},
   "outputs": [],
   "source": [
    "%%bash\n",
    "\n",
    "# Change into the working directory\n",
    "cd example\n",
    "\n",
    "# Let's have a look at the information they provide\n",
    "echo ''\n",
    "echo ' Documentation of Optimization Process'\n",
    "echo ' -------------------------------------'\n",
    "echo ''\n",
    "cat grmToolbox.grm.log   \n",
    "\n",
    "echo ''\n",
    "echo ' Starting Values'\n",
    "echo ' ---------------'\n",
    "echo ''\n",
    "cat startParas.grm.out  \n",
    "\n",
    "echo ''\n",
    "echo ' Estimated Values'\n",
    "echo ' ----------------'\n",
    "echo ''\n",
    "cat stepParas.grm.out   \n",
    "\n",
    "echo ''\n",
    "echo ' Results for Treatment Effects'\n",
    "echo ' -----------------------------'\n",
    "echo ''\n",
    "cat rslt.grm.log"
   ]
  },
  {
   "cell_type": "markdown",
   "metadata": {},
   "source": [
    "After perturbing the parameter values, we can easily restart the estimation."
   ]
  },
  {
   "cell_type": "code",
   "execution_count": 11,
   "metadata": {},
   "outputs": [
    {
     "name": "stdout",
     "output_type": "stream",
     "text": [
      "usage: grmToolbox-perturb [-h] [--seed SEED] [--scale SCALE] [--init INIT]\n",
      "                          [--update]\n",
      "\n",
      "Perturb current value of structural parameters for grmToolbox.\n",
      "\n",
      "optional arguments:\n",
      "  -h, --help     show this help message and exit\n",
      "  --seed SEED    value of random seed (default: 123)\n",
      "  --scale SCALE  magnitude of perturbation (default: 0.1)\n",
      "  --init INIT    source for model configuration (default: init.ini)\n",
      "  --update       update structural parameters (default: False)\n"
     ]
    }
   ],
   "source": [
    "%%bash\n",
    "grmToolbox-perturb -h"
   ]
  },
  {
   "cell_type": "code",
   "execution_count": 35,
   "metadata": {},
   "outputs": [],
   "source": [
    "%%bash\n",
    "\n",
    "# Change into the working directory\n",
    "cd example\n",
    "\n",
    "# Pertrub current parameter values\n",
    "grmToolbox-perturb --update\n",
    "\n",
    "# Resume estimation run at stepParas.out\n",
    "grmToolbox-estimate --init init.ini --resume"
   ]
  },
  {
   "cell_type": "markdown",
   "metadata": {},
   "source": [
    "## Monte Carlo Exercise\n",
    "\n",
    "Let us assume we just finished estimation run on actual data. What is a good way to gain some confidence in your results and communicate it to your fellow researchers? I use the following Monte Carlo Exercise:"
   ]
  },
  {
   "cell_type": "code",
   "execution_count": 13,
   "metadata": {},
   "outputs": [
    {
     "data": {
      "image/png": "[encoded data removed]"
     },
     "output_type": "display_data",
     "metadata": {}
    }
   ],
   "source": [
    "Image(filename='images/monte_carlo.png', width=1000)"
   ]
  },
  {
   "cell_type": "markdown",
   "metadata": {},
   "source": [
    "$M(\\psi)$ denotes the structural model parametrized by $\\psi$, which is fit to the observed data $D^{obs}$ to produce an estimated set of parameters $\\psi^{obs}$. Using the initial estimates as the parametrization for the Monte Carlo exercise ensures that important features of the data-generating process, such as unobserved variability in agent behaviors and outcomes, are accounted for. \n",
    "\n",
    "In Step 2, it is crucial to follow the same estimation approach applied to the original data as closely as possible, for example, choice of starting values. This exercise showcases the performance of the estimator in a favorable setting as the model is correctly specified. If the structural parameters $\\psi^{syn}$ are successfully recovered, this is encouraging but does not provide a definite proof of the performance in the observed data. A failure, however, offers reason for concern.\n",
    "\n",
    "Given the design of the toolbox, implementing the idea is straightforward. Of course, this is not by accident. \n",
    "\n",
    "Let us start with a baseline estimation."
   ]
  },
  {
   "cell_type": "code",
   "execution_count": 24,
   "metadata": {},
   "outputs": [],
   "source": [
    "%%bash\n",
    "\n",
    "# Change into the working directory\n",
    "cd example\n",
    "\n",
    "# Clean directory\n",
    "grmToolbox-clean\n",
    "\n",
    "# Estimate generalized Roy model on \n",
    "# dataset.txt\n",
    "grmToolbox-estimate"
   ]
  },
  {
   "cell_type": "markdown",
   "metadata": {},
   "source": [
    "Now, let us create a synthetic dataset."
   ]
  },
  {
   "cell_type": "code",
   "execution_count": null,
   "metadata": {},
   "outputs": [],
   "source": [
    "%%bash\n",
    "\n",
    "# Change into the working directory\n",
    "cd example\n",
    "\n",
    "# Simulate datset with perturbed parameter values\n",
    "# and store it as simulation.dat (see SIMULATION)\n",
    "grmToolbox-simulate --init init.ini --update"
   ]
  },
  {
   "cell_type": "markdown",
   "metadata": {},
   "source": [
    "Let us re-estimate the model."
   ]
  },
  {
   "cell_type": "code",
   "execution_count": 25,
   "metadata": {},
   "outputs": [],
   "source": [
    "%%bash\n",
    "\n",
    "# Change into the working directory\n",
    "cd example\n",
    "\n",
    "# Reestimate generalize Roy model using SIMULATION\n",
    "# as source and starting values from initialization\n",
    "# file\n",
    "grmToolbox-estimate --init init.ini --simulation"
   ]
  },
  {
   "cell_type": "markdown",
   "metadata": {},
   "source": [
    "Let us compare true structural parameters of the simulated sample with the results from the second estimation run."
   ]
  },
  {
   "cell_type": "code",
   "execution_count": 26,
   "metadata": {},
   "outputs": [
    {
     "name": "stdout",
     "output_type": "stream",
     "text": [
      "     Start  Estimate     Truth    Difference \n",
      "\n",
      "      0.20      0.20      0.20     -0.00\n",
      "      0.10      0.11      0.10      0.01\n",
      "      0.50      0.50      0.50     -0.00\n",
      "      0.05      0.06      0.05      0.01\n",
      "      0.10      0.10      0.10      0.00\n",
      "      0.50      0.50      0.50     -0.00\n",
      "      0.10      0.10      0.10     -0.00\n",
      "      0.05      0.05      0.05     -0.00\n",
      "      0.10      0.07      0.10     -0.03\n",
      "      0.00      0.03      0.00      0.03\n",
      "      0.20      0.22      0.20      0.02\n",
      "     -0.20     -0.15     -0.20      0.05\n",
      "      0.30      0.26      0.30     -0.04\n",
      "      0.15      0.15      0.15     -0.00\n",
      "      0.15      0.14      0.15     -0.01\n",
      "      0.50      0.48      0.50     -0.02\n"
     ]
    }
   ],
   "source": [
    "# Load true and estimated parameters\n",
    "true_values = np.loadtxt('example/simulation.paras.grm.out')\n",
    "est_values = np.loadtxt('example/stepParas.grm.out')\n",
    "start_values = np.loadtxt('example/startParas.grm.out')\n",
    "\n",
    "# Auxiliary objects\n",
    "num_paras = len(true_values)\n",
    "\n",
    "# Formatting\n",
    "fmt = '{0:10.2f}{1:10.2f}{2:10.2f}{3:10.2f}'\n",
    "\n",
    "# Print both parameters\n",
    "print '     Start  Estimate     Truth    Difference \\n'\n",
    "for i in range(num_paras):\n",
    "            \n",
    "    start, est, true = start_values[i], est_values[i], true_values[i]\n",
    "\n",
    "    diff = est - true\n",
    "    \n",
    "    print fmt.format(start, est, true, diff)"
   ]
  },
  {
   "cell_type": "markdown",
   "metadata": {},
   "source": [
    "We can also set up a script that implements the exercise. Please note the use of the [*argparse*](https://docs.python.org/2/library/argparse.html) package, which makes it easy to write user-friendly command-line interface."
   ]
  },
  {
   "cell_type": "code",
   "execution_count": 16,
   "metadata": {},
   "outputs": [
    {
     "data": {
      "text/html": [
       "<html>\r\n",
       "<head>\r\n",
       "<title>monte_carlo.py</title>\r\n",
       "<meta http-equiv=\"Content-Type\" content=\"text/html; charset=utf-8\">\r\n",
       "<style type=\"text/css\">\n",
       ".ln { color: rgb(0,0,0); font-weight: normal; font-style: normal; }\n",
       ".s0 { color: rgb(128,128,128); font-style: italic; }\n",
       ".s1 { }\n",
       ".s2 { color: rgb(0,0,128); font-weight: bold; }\n",
       ".s3 { color: rgb(0,128,0); font-weight: bold; }\n",
       "</style>\n",
       "</head>\r\n",
       "<BODY BGCOLOR=\"#ffffff\">\r\n",
       "<TABLE CELLSPACING=0 CELLPADDING=5 COLS=1 WIDTH=\"100%\" BGCOLOR=\"#C0C0C0\" >\r\n",
       "<TR><TD><CENTER>\r\n",
       "<FONT FACE=\"Arial, Helvetica\" COLOR=\"#000000\">\r\n",
       "monte_carlo.py</FONT>\r\n",
       "</center></TD></TR></TABLE>\r\n",
       "<pre>\r\n",
       "\n",
       "<span class=\"s0\">#!/usr/bin/env python</span><span class=\"s1\"> \n",
       "</span><span class=\"s0\">&quot;&quot;&quot; This module conducts the Monte Carlo exercise discussed in the \n",
       "    lecture. \n",
       "&quot;&quot;&quot;</span><span class=\"s1\"> \n",
       " \n",
       "</span><span class=\"s0\"># standard library</span><span class=\"s1\"> \n",
       "</span><span class=\"s2\">import </span><span class=\"s1\">os \n",
       "</span><span class=\"s2\">import </span><span class=\"s1\">argparse \n",
       "</span><span class=\"s2\">import </span><span class=\"s1\">numpy </span><span class=\"s2\">as </span><span class=\"s1\">np \n",
       " \n",
       "</span><span class=\"s3\">''' Main functions \n",
       "'''</span><span class=\"s1\"> \n",
       "</span><span class=\"s2\">def </span><span class=\"s1\">conduct_monte_carlo(init_file): \n",
       "    </span><span class=\"s0\">&quot;&quot;&quot; This function conducts a Monte Carlo exercise to test the \n",
       "        reliabilty of the grmToolbox. \n",
       "    &quot;&quot;&quot;</span><span class=\"s1\"> \n",
       " \n",
       "    </span><span class=\"s0\"># Clean directory</span><span class=\"s1\"> \n",
       "    os.system(</span><span class=\"s3\">'grmToolbox-clean'</span><span class=\"s1\">) \n",
       " \n",
       "    </span><span class=\"s0\"># Estimate generalized Roy model on DATA/source</span><span class=\"s1\"> \n",
       "    os.system(</span><span class=\"s3\">'grmToolbox-estimate'</span><span class=\"s1\">) \n",
       " \n",
       "    </span><span class=\"s0\"># Simulate dataset with perturbed parameter values</span><span class=\"s1\"> \n",
       "    </span><span class=\"s0\"># and store it as SIMULATION/target</span><span class=\"s1\"> \n",
       "    os.system(</span><span class=\"s3\">'grmToolbox-simulate --init init.ini --update'</span><span class=\"s1\">) \n",
       " \n",
       "    </span><span class=\"s0\"># Reestimate generalize Roy model using SIMULATION</span><span class=\"s1\"> \n",
       "    </span><span class=\"s0\"># as source and starting values from initialization</span><span class=\"s1\"> \n",
       "    </span><span class=\"s0\"># file</span><span class=\"s1\"> \n",
       "    os.system(</span><span class=\"s3\">'grmToolbox-estimate --init init.ini --simulation'</span><span class=\"s1\">) \n",
       " \n",
       " \n",
       "</span><span class=\"s2\">def </span><span class=\"s1\">process(args): \n",
       "    </span><span class=\"s0\">&quot;&quot;&quot; Process arguments. \n",
       "    &quot;&quot;&quot;</span><span class=\"s1\"> \n",
       "    </span><span class=\"s0\"># Distribute arguments</span><span class=\"s1\"> \n",
       "    init_file = args.init_file \n",
       " \n",
       "    </span><span class=\"s0\"># Quality checks</span><span class=\"s1\"> \n",
       "    </span><span class=\"s2\">assert </span><span class=\"s1\">(isinstance(init_file, str)) \n",
       " \n",
       "    </span><span class=\"s0\"># Finishing</span><span class=\"s1\"> \n",
       "    </span><span class=\"s2\">return </span><span class=\"s1\">init_file \n",
       " \n",
       " \n",
       "</span><span class=\"s2\">def </span><span class=\"s1\">print_results(): \n",
       "    </span><span class=\"s0\">&quot;&quot;&quot; Print results from Monte Carlo Exercise. \n",
       "    &quot;&quot;&quot;</span><span class=\"s1\"> \n",
       "    </span><span class=\"s0\"># Load true and estimated parameters</span><span class=\"s1\"> \n",
       "    true_values = np.loadtxt(</span><span class=\"s3\">'simulation.paras.grm.out'</span><span class=\"s1\">) \n",
       "    est_values = np.loadtxt(</span><span class=\"s3\">'stepParas.grm.out'</span><span class=\"s1\">) \n",
       "    start_values = np.loadtxt(</span><span class=\"s3\">'startParas.grm.out'</span><span class=\"s1\">) \n",
       " \n",
       "    </span><span class=\"s0\"># Auxiliary objects</span><span class=\"s1\"> \n",
       "    num_paras = len(true_values) \n",
       " \n",
       "    </span><span class=\"s0\"># Formatting</span><span class=\"s1\"> \n",
       "    fmt = </span><span class=\"s3\">'{0:10.2f}{1:10.2f}{2:10.2f}{3:10.2f}'</span><span class=\"s1\"> \n",
       " \n",
       "    </span><span class=\"s0\"># Print both parameters</span><span class=\"s1\"> \n",
       "    </span><span class=\"s2\">print </span><span class=\"s3\">'     Start  Estimate     Truth    Difference </span><span class=\"s2\">\\n</span><span class=\"s3\">'</span><span class=\"s1\"> \n",
       "    </span><span class=\"s2\">for </span><span class=\"s1\">i </span><span class=\"s2\">in </span><span class=\"s1\">range(num_paras): \n",
       "        start, est, true = start_values[i], est_values[i], true_values[i] \n",
       " \n",
       "        diff = est - true \n",
       " \n",
       "        </span><span class=\"s2\">print </span><span class=\"s1\">fmt.format(start, est, true, diff) \n",
       " \n",
       " \n",
       "</span><span class=\"s3\">''' Execution of module as script. \n",
       "'''</span><span class=\"s1\"> \n",
       "</span><span class=\"s2\">if </span><span class=\"s1\">__name__ == </span><span class=\"s3\">'__main__'</span><span class=\"s1\">: \n",
       "    parser = argparse.ArgumentParser(description= \n",
       "                                     </span><span class=\"s3\">'Conduct Monte Carlo exercise with grmToolbox.'</span><span class=\"s1\">, \n",
       "                                     formatter_class=argparse.ArgumentDefaultsHelpFormatter) \n",
       " \n",
       "    parser.add_argument(</span><span class=\"s3\">'--init'</span><span class=\"s1\">, action=</span><span class=\"s3\">'store'</span><span class=\"s1\">, dest=</span><span class=\"s3\">'init_file'</span><span class=\"s1\">, \n",
       "                        default=</span><span class=\"s3\">'init.ini'</span><span class=\"s1\">, \n",
       "                        help=</span><span class=\"s3\">'source for model configuration'</span><span class=\"s1\">) \n",
       " \n",
       "    args = parser.parse_args() \n",
       " \n",
       "    init_file = process(args) \n",
       " \n",
       "    conduct_monte_carlo(init_file) \n",
       " \n",
       "    print_results() \n",
       "</span></pre>\r\n",
       "</body>\r\n",
       "</html>"
      ]
     },
     "output_type": "execute_result",
     "metadata": {}
    }
   ],
   "source": [
    "display(HTML('images/monte_carlo.html'))"
   ]
  },
  {
   "cell_type": "markdown",
   "metadata": {},
   "source": [
    "We can call the script from the command-line."
   ]
  },
  {
   "cell_type": "code",
   "execution_count": null,
   "metadata": {},
   "outputs": [],
   "source": [
    "%%bash\n",
    "\n",
    "# Change into the working directory\n",
    "cd example\n",
    "\n",
    "# Obtain information about script \n",
    "# provided by argparse\n",
    "./../modules/monte_carlo.py -h\n",
    "\n",
    "# Run Monte Carlo exercise \n",
    "# with default value for\n",
    "# perturbation\n",
    "./../modules/monte_carlo.py"
   ]
  },
  {
   "cell_type": "markdown",
   "metadata": {},
   "source": [
    "## Cleanup"
   ]
  },
  {
   "cell_type": "code",
   "execution_count": 28,
   "metadata": {},
   "outputs": [],
   "source": [
    "# Create list of all files generated by the notebook\n",
    "files  = glob.glob('grmToolbox*')\n",
    "\n",
    "files += glob.glob('example')\n",
    "\n",
    "files += glob.glob('.pid')\n",
    "\n",
    "# Remove files\n",
    "for file_ in files:\n",
    "    try:\n",
    "        os.remove(file_)\n",
    "    except OSError:\n",
    "        shutil.rmtree(file_)"
   ]
  }
 ],
 "metadata": {
  "kernelspec": {
   "display_name": "Python 2",
   "language": "python",
   "name": "python2"
  },
  "language_info": {
   "codemirror_mode": {
    "name": "ipython",
    "version": 2.0
   },
   "file_extension": ".py",
   "mimetype": "text/x-python",
   "name": "python",
   "nbconvert_exporter": "python",
   "pygments_lexer": "ipython2",
   "version": "2.7.9"
  }
 },
 "nbformat": 4,
 "nbformat_minor": 0
}